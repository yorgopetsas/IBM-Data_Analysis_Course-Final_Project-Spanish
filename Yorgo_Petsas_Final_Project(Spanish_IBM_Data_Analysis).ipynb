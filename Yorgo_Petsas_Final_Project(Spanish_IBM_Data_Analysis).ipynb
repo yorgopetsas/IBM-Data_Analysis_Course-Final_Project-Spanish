{
  "cells": [
    {
      "cell_type": "markdown",
      "id": "18e1c76e",
      "metadata": {
        "id": "18e1c76e"
      },
      "source": [
        "<center><h1>Proyecto final</h1></center>\n",
        "<center><h3>IBM SkillsBuild Europa - Análisis de datos</h3></center>"
      ]
    },
    {
      "cell_type": "markdown",
      "id": "ccdda504",
      "metadata": {
        "id": "ccdda504"
      },
      "source": [
        "# Requisitos\n",
        "\n",
        "\n",
        "\n",
        "* Conocimientos de Python, Power BI o Tableau.\n",
        "* Comprensión de la limpieza de datos.\n",
        "* Comprensión de la visualización de datos.\n",
        "\n",
        "\n",
        "\n",
        "#### Nivel de ejercicio: Intermedio\n",
        "\n",
        "\n",
        "\n",
        "#### Duración: aproximadamente 3 horas\n"
      ]
    },
    {
      "cell_type": "markdown",
      "id": "1dd097a8",
      "metadata": {
        "id": "1dd097a8"
      },
      "source": [
        "### Análisis de datos de Airbnb:\n",
        "\n",
        "\n",
        "\n",
        "#### Objetivo:\n",
        "\n",
        "\n",
        "\n",
        "En este ejercicio, practicarás el análisis de datos sobre un conjunto de datos abiertos procedentes de Airbnb. Algunas de las tareas incluyen:\n",
        "\n",
        "- limpieza de datos,\n",
        "- transformación de datos y\n",
        "- visualización de datos.\n",
        "\n",
        "\n",
        "\n",
        "#### Resumen sobre los datos de Airbnb:\n",
        "\n",
        "\n",
        "\n",
        "Los criterios principales de la gente cuando visita lugares nuevos son contar con alojamiento y comida a precios razonables. Airbnb (Air-Bed-Breakfast) es un mercado en línea creado para satisfacer esta necesidad, pues permite a la gente alquilar sus casas durante plazos cortos. Estos servicios se ofrecen a un precio relativamente inferior al de los hoteles y en diversas ubicaciones geográficas. Además, personas de todo el mundo prefieren el servicio hogareño y económico.\n",
        "\n",
        "\n",
        "\n",
        "#### Fuente de los datos\n",
        "\n",
        "\n",
        "\n",
        "Puedes obtener el <i>dataset</i> para realizar este proyecto en el siguiente enlace: https://www.kaggle.com/datasets/arianazmoudeh/airbnbopendata\n",
        "\n",
        "\n",
        "\n",
        "Este <i>dataset</i> contiene información sobre los alojamientos, tal como el barrio, el tipo de habitación, el precio, la disponibilidad, las opiniones, los gastos de servicio, la política de cancelación y las normas de uso de la casa.\n",
        "\n",
        "\n",
        "\n",
        "¡Te deseamos lo mejor en tu análisis de los datos de Airbnb!"
      ]
    },
    {
      "cell_type": "markdown",
      "id": "87iYmshDK853",
      "metadata": {
        "id": "87iYmshDK853"
      },
      "source": [
        "## Tarea 1: Carga de datos (Python)\n",
        "\n",
        "\n",
        "\n",
        "1. Lee el fichero csv y cárgarlo en un <i>dataframe</i> de pandas.\n",
        "2. Visualiza las cinco primeras filas de tu <i>dataframe</i>.\n",
        "3. Visualize los tipos de datos de las columnas."
      ]
    },
    {
      "cell_type": "markdown",
      "id": "392a2ZEskJjh",
      "metadata": {
        "id": "392a2ZEskJjh"
      },
      "source": [
        "**1** Lee el fichero csv y cárgarlo en un dataframe de pandas."
      ]
    },
    {
      "cell_type": "code",
      "execution_count": null,
      "id": "-ikKZ3bYK856",
      "metadata": {
        "colab": {
          "base_uri": "https://localhost:8080/"
        },
        "id": "-ikKZ3bYK856",
        "outputId": "80ea15f5-c0fd-4f2d-deb3-2c9af6593541"
      },
      "outputs": [],
      "source": [
        "## Leer el fichero csv y cárgarlo en un dataframe de pandas.\n",
        "import os\n",
        "import pandas as pd\n",
        "\n",
        "# Comprobar ruta / path\n",
        "dir = os.getcwd()\n",
        "filename = \"Airbnb_Open_Data.csv\"\n",
        "# Construir ruta del fichero absoluta (absolute path)\n",
        "try:\n",
        "  file_path = dir + '/' + filename\n",
        "except:\n",
        "  print(f'The file {file_path} does not exist.')\n",
        "\n",
        "# Asegurarnos de la existencia del fichero\n",
        "if os.path.exists(file_path):\n",
        "  print(file_path)\n",
        "\n",
        "  ## Crear un DataFrame del CSV\n",
        "  df = pd.read_csv(filename, low_memory=False)\n",
        "\n"
      ]
    },
    {
      "cell_type": "markdown",
      "id": "qKWaZ2c0nabr",
      "metadata": {
        "id": "qKWaZ2c0nabr"
      },
      "source": [
        "**2** Visualiza las cinco primeras filas de tu dataframe."
      ]
    },
    {
      "cell_type": "code",
      "execution_count": null,
      "id": "RWEtAhDbK858",
      "metadata": {
        "colab": {
          "base_uri": "https://localhost:8080/",
          "height": 533
        },
        "id": "RWEtAhDbK858",
        "outputId": "6aa7cedb-e4ba-41df-b94d-0543fba34f75"
      },
      "outputs": [],
      "source": [
        "## Mostrar el Head / Primeras 5 filas\n",
        "df.head()\n"
      ]
    },
    {
      "cell_type": "markdown",
      "id": "V-AUv_s-neEJ",
      "metadata": {
        "id": "V-AUv_s-neEJ"
      },
      "source": [
        "**3** Visualize los tipos de datos de las columnas."
      ]
    },
    {
      "cell_type": "code",
      "execution_count": null,
      "id": "WuceSXM-K859",
      "metadata": {
        "colab": {
          "base_uri": "https://localhost:8080/"
        },
        "id": "WuceSXM-K859",
        "outputId": "15818f33-cbc6-488d-83d0-69f5dfdcae8f"
      },
      "outputs": [],
      "source": [
        "## Mostrar los tipos de datos y los valores nullos con 'df.info()' o 'df.dtypes'\n",
        "df.dtypes\n"
      ]
    },
    {
      "cell_type": "markdown",
      "id": "cAkB_QvkK859",
      "metadata": {
        "id": "cAkB_QvkK859"
      },
      "source": [
        "## Tarea 2a: Limpieza de datos (cualquier herramienta)\n",
        "\n",
        "\n",
        "1. Elimina las columnas no deseadas del <i>dataframe</i>, entre ellas se incluyen `host id`, `id`, `country` y `country code`.\n",
        "2. Indica la razón por la cual se han eliminado estas columnas para tu análisis de datos.\n",
        "\n",
        "\n",
        "Si utilizas Python para este ejercicio, incluye el código que hayas utilizado en las celdas siguientes. Si utilizas cualquier otra herramienta, incluye capturas de pantalla tomadas antes y después de eliminar las columnas."
      ]
    },
    {
      "cell_type": "markdown",
      "id": "2KGcH8O7RKQR",
      "metadata": {
        "id": "2KGcH8O7RKQR"
      },
      "source": [
        "1. Eliminamos las columnas no deseadas"
      ]
    },
    {
      "cell_type": "code",
      "execution_count": 212,
      "id": "DoduWcK9K85-",
      "metadata": {
        "id": "DoduWcK9K85-"
      },
      "outputs": [],
      "source": [
        "## Eliminar columnas no deseadas\n",
        "df.drop(columns = [\"host id\", \"id\", \"country\", \"country code\"], axis=1, inplace=True)"
      ]
    },
    {
      "cell_type": "code",
      "execution_count": null,
      "id": "cEvRIZhQK85-",
      "metadata": {
        "colab": {
          "base_uri": "https://localhost:8080/"
        },
        "id": "cEvRIZhQK85-",
        "outputId": "feafa1a5-d0d4-4e6e-a864-dbecbd965e8c"
      },
      "outputs": [],
      "source": [
        "## Confirmar el cambio visualizando las columnas\n",
        "df.columns"
      ]
    },
    {
      "cell_type": "markdown",
      "id": "Hf1F2QJ7Q-tZ",
      "metadata": {
        "id": "Hf1F2QJ7Q-tZ"
      },
      "source": [
        "2. Las columnas no son necesarias para el analisis y las eliminamos para hacer más facil y ligero el manejo de datos."
      ]
    },
    {
      "cell_type": "markdown",
      "id": "8v34rhNaK85_",
      "metadata": {
        "id": "8v34rhNaK85_"
      },
      "source": [
        "## Tarea 2b: Limpieza de datos (Python)\n",
        "\n",
        "\n",
        "- Compueba si hay valores nulos y muestra el recuento en orden ascendente. **Si faltan valores, imputa los valores como consideres.**\n",
        "- Comprueba si hay valores duplicados y elimínalos.\n",
        "- Muestra el número total de registros antes y después de eliminar los duplicados."
      ]
    },
    {
      "cell_type": "code",
      "execution_count": null,
      "id": "Z2MfBKnyK86A",
      "metadata": {
        "colab": {
          "base_uri": "https://localhost:8080/"
        },
        "id": "Z2MfBKnyK86A",
        "outputId": "bad37201-0126-4621-b2a2-5d97a2efb879"
      },
      "outputs": [],
      "source": [
        "## Visualizar la cuenta de campos con valor null por cada columna en orden ascendente.\n",
        "df.isnull().sum().sort_values(ascending=True)\n"
      ]
    },
    {
      "cell_type": "code",
      "execution_count": 215,
      "id": "uRhxPowaZb3p",
      "metadata": {
        "id": "uRhxPowaZb3p"
      },
      "outputs": [],
      "source": [
        "## Inputar valores null por columna\n",
        "for col in df.columns:\n",
        "  if df[col].dtype == 'O':\n",
        "    df[col].fillna(value=df[col].mode()[0], inplace=True)\n",
        "  else:\n",
        "    df[col].fillna(value=df[col].median(), inplace=True)\n"
      ]
    },
    {
      "cell_type": "code",
      "execution_count": null,
      "id": "g0tKAth22A4o",
      "metadata": {
        "colab": {
          "base_uri": "https://localhost:8080/"
        },
        "id": "g0tKAth22A4o",
        "outputId": "bde18cda-6941-4f88-db0b-8c74caee1ab6"
      },
      "outputs": [],
      "source": [
        "## Confirmar la falta de campos nulos\n",
        "df.isnull().sum().sort_values(ascending=True)"
      ]
    },
    {
      "cell_type": "markdown",
      "id": "afZ4RGIy92qJ",
      "metadata": {
        "id": "afZ4RGIy92qJ"
      },
      "source": [
        "Mostrar número total de registros"
      ]
    },
    {
      "cell_type": "code",
      "execution_count": null,
      "id": "3n0KcX22mDkp",
      "metadata": {
        "colab": {
          "base_uri": "https://localhost:8080/"
        },
        "id": "3n0KcX22mDkp",
        "outputId": "9bbf55e8-e8f5-4b8a-f137-d2ee99d18caf"
      },
      "outputs": [],
      "source": [
        "df.shape"
      ]
    },
    {
      "cell_type": "markdown",
      "id": "RyBkJdxUoMC_",
      "metadata": {
        "id": "RyBkJdxUoMC_"
      },
      "source": [
        "Comprobar si hay duplicados y eliminarlos."
      ]
    },
    {
      "cell_type": "code",
      "execution_count": null,
      "id": "-huqnzKlK86A",
      "metadata": {
        "colab": {
          "base_uri": "https://localhost:8080/"
        },
        "id": "-huqnzKlK86A",
        "outputId": "9001e67c-66f5-4cfe-d168-d11bc746f62b"
      },
      "outputs": [],
      "source": [
        "## Comprobar si hay valores duplicados y elimínalos.\n",
        "df.duplicated().sum()\n",
        "\n",
        "## Eliminar\n",
        "df.drop_duplicates(inplace=True)\n",
        "\n",
        "## Confirmar\n",
        "df.duplicated().sum()"
      ]
    },
    {
      "cell_type": "code",
      "execution_count": null,
      "id": "pJDuUXTTK86A",
      "metadata": {
        "colab": {
          "base_uri": "https://localhost:8080/"
        },
        "id": "pJDuUXTTK86A",
        "outputId": "558449de-ae73-4903-830b-5ea58459b060"
      },
      "outputs": [],
      "source": [
        "## Número total de registros después de eliminar los duplicados.\n",
        "\n",
        "df.shape"
      ]
    },
    {
      "cell_type": "markdown",
      "id": "jI9H0IAEK86B",
      "metadata": {
        "id": "jI9H0IAEK86B"
      },
      "source": [
        "## Tarea 3: Transformación de datos (cualquier herramienta)\n",
        "\n",
        "\n",
        "\n",
        "\n",
        "\n",
        "- Cambia el nombre de la columna `availability 365` a `days_booked`.\n",
        "- Convierte todos los nombres de columna a minúsculas y sustituye los espacios en los nombres de columna por un guión bajo \"_\".\n",
        "- Elimina el signo de dólares y la coma de las columnas `price` y `service_fee`. Si es necesario, convierte estas dos columnas al tipo de datos adecuado.\n",
        "\n",
        "\n",
        "\n",
        "Si utilizas Python para este ejercicio, incluye el código que hayas utilizado en las celdas siguientes. Si utilizas cualquier otra herramienta, incluye capturas de pantalla de tu trabajo."
      ]
    },
    {
      "cell_type": "code",
      "execution_count": 220,
      "id": "dzJpmYvhK86B",
      "metadata": {
        "id": "dzJpmYvhK86B"
      },
      "outputs": [],
      "source": [
        "## Cambiar el nombre de la columna.\n",
        "df.rename(columns={'availability 365': 'days_booked' }, inplace=True)"
      ]
    },
    {
      "cell_type": "code",
      "execution_count": null,
      "id": "RNPjUKzZmo9C",
      "metadata": {
        "colab": {
          "base_uri": "https://localhost:8080/"
        },
        "id": "RNPjUKzZmo9C",
        "outputId": "bbc9843d-b8b2-4851-a8ec-7b700f527639"
      },
      "outputs": [],
      "source": [
        "## Confirmar nuevos nombres\n",
        "df.info()"
      ]
    },
    {
      "cell_type": "code",
      "execution_count": 222,
      "id": "KqsgZ1aBK86C",
      "metadata": {
        "id": "KqsgZ1aBK86C"
      },
      "outputs": [],
      "source": [
        "## Conviertir todos los nombres de columna a minúsculas y sustituye los espacios por un guión bajo \"_\".\n",
        "df.columns = [col.lower().replace(' ', '_') for col in df.columns]"
      ]
    },
    {
      "cell_type": "code",
      "execution_count": null,
      "id": "sIY0pZL0nyYy",
      "metadata": {
        "colab": {
          "base_uri": "https://localhost:8080/"
        },
        "id": "sIY0pZL0nyYy",
        "outputId": "b6d59d8b-1b05-4626-a01b-655d57be5a46"
      },
      "outputs": [],
      "source": [
        "## Confirmar nuevos nombres\n",
        "df.info()"
      ]
    },
    {
      "cell_type": "code",
      "execution_count": 224,
      "id": "m66wCpyoK86C",
      "metadata": {
        "id": "m66wCpyoK86C"
      },
      "outputs": [],
      "source": [
        "## Eliminar el signo de dólares y la coma de las columnas. Si es necesario, convierte estas dos columnas al tipo de datos adecuado.\n",
        "import numpy as np\n",
        "\n",
        "## Definir funcción que elimina el signo dolar en una columna\n",
        "def remove_dollar_sign(value):\n",
        "  if pd.isna(value):\n",
        "    return np.NaN\n",
        "  else:\n",
        "    return float(value.replace(\"$\", \"\").replace(\",\",\"\"))\n"
      ]
    },
    {
      "cell_type": "code",
      "execution_count": null,
      "id": "OwHzWijo12m8",
      "metadata": {
        "colab": {
          "base_uri": "https://localhost:8080/"
        },
        "id": "OwHzWijo12m8",
        "outputId": "e00e5714-4172-4fd2-8851-d2dcc8ccff78"
      },
      "outputs": [],
      "source": [
        "## Llamar a la funcción \"remove_dollar_sign\" para eliminar el signo de la columna 'price'\n",
        "df['price'] = df['price'].apply(lambda x: remove_dollar_sign(x))\n",
        "\n",
        "## Visualizar el cambio\n",
        "df['price']\n",
        "\n"
      ]
    },
    {
      "cell_type": "code",
      "execution_count": null,
      "id": "SvHxy75w2hK9",
      "metadata": {
        "colab": {
          "base_uri": "https://localhost:8080/"
        },
        "id": "SvHxy75w2hK9",
        "outputId": "260b4c42-1b35-4cc7-efd5-103929776695"
      },
      "outputs": [],
      "source": [
        "# Llamar a la funcción \"remove_dollar_sign\" para eliminar el signo de la columna 'service_fee'\n",
        "df['service_fee'] = df['service_fee'].apply(lambda x: remove_dollar_sign(x))\n",
        "\n",
        "# Visualizar el cambio\n",
        "df['service_fee']"
      ]
    },
    {
      "cell_type": "markdown",
      "id": "DxyVsRzyK86C",
      "metadata": {
        "id": "DxyVsRzyK86C"
      },
      "source": [
        "## Tarea 4: Análisis exploratorio de datos (cualquier herramienta)\n",
        "\n",
        "\n",
        "\n",
        "- Enumera los tipos de habitaciones disponibles en el <i>dataset</i>.\n",
        "- ¿Qué tipo de habitación tiene la política de cancelación más estricta?\n",
        "- Enumera el precio medio por barrio y señala cuál es el conjunto de barrios más caro para alquilar.\n",
        "\n",
        "\n",
        "\n",
        "Si utilizas Python para este ejercicio, incluye el código que hayas utilizado en las celdas siguientes. Si utilizas cualquier otra herramienta, incluye capturas de pantalla de tu trabajo."
      ]
    },
    {
      "cell_type": "code",
      "execution_count": null,
      "id": "ylqpVpIaK86D",
      "metadata": {
        "colab": {
          "base_uri": "https://localhost:8080/"
        },
        "id": "ylqpVpIaK86D",
        "outputId": "45e03496-fee5-47f9-85fe-27bd928a4ee6"
      },
      "outputs": [],
      "source": [
        "## Enumerar los tipos de habitaciones disponibles en Airbnb.\n",
        "df['room_type'].value_counts()\n"
      ]
    },
    {
      "cell_type": "code",
      "execution_count": null,
      "id": "EOF0g2geK86D",
      "metadata": {
        "colab": {
          "base_uri": "https://localhost:8080/"
        },
        "id": "EOF0g2geK86D",
        "outputId": "125df18c-58c8-4668-ddec-75f9d4cae515"
      },
      "outputs": [],
      "source": [
        "## ¿Qué tipo de habitación se adhiere a una política de cancelación más estricta?\n",
        "\n",
        "## Visualizar politicas de cancelción\n",
        "can_policy = df['cancellation_policy'].value_counts()\n",
        "can_policy\n"
      ]
    },
    {
      "cell_type": "code",
      "execution_count": null,
      "id": "brxFBR5f3jwb",
      "metadata": {
        "colab": {
          "base_uri": "https://localhost:8080/",
          "height": 981
        },
        "id": "brxFBR5f3jwb",
        "outputId": "01228554-fe30-4847-fc24-9e71ce731e37"
      },
      "outputs": [],
      "source": [
        "## Visualizar las habitaciones con la política de cancelación más estricta 'strict'\n",
        "mas_estrictas = df[df['cancellation_policy'] =='strict']\n",
        "mas_estrictas"
      ]
    },
    {
      "cell_type": "code",
      "execution_count": null,
      "id": "7fIwo9SrK86E",
      "metadata": {
        "colab": {
          "base_uri": "https://localhost:8080/"
        },
        "id": "7fIwo9SrK86E",
        "outputId": "f0ccd30f-2276-408a-93bb-f252f178a9d4"
      },
      "outputs": [],
      "source": [
        "## Enumerar el precio medio por barrio/'neighbourhood' (incluyendo los outliers)\n",
        "print('Precio medio por barrio:\\n')\n",
        "gp = df['price'].groupby(df['neighbourhood']).mean().sort_values(ascending=False)\n",
        "gp"
      ]
    },
    {
      "cell_type": "code",
      "execution_count": null,
      "id": "liQIatKbCpvK",
      "metadata": {
        "colab": {
          "base_uri": "https://localhost:8080/"
        },
        "id": "liQIatKbCpvK",
        "outputId": "1f835f27-7bc0-4b24-fdce-34075dff9dc8"
      },
      "outputs": [],
      "source": [
        "# Señalar el conjunto de barrios ('neighbourhood_group') con el alquiler medio más alto\n",
        "print('Grupo de barrios con alquiler medio más alto:\\n')\n",
        "gpz = df['price'].groupby(df['neighbourhood_group']).mean().sort_values(ascending=False)\n",
        "gpz.iloc[0:1]"
      ]
    },
    {
      "cell_type": "markdown",
      "id": "MqAfrs2_K86E",
      "metadata": {
        "id": "MqAfrs2_K86E"
      },
      "source": [
        "## Tarea 5a: Visualización de datos (Cualquier herramienta)\n",
        "\n",
        "* **REPETICIÓN -** Enumerar los distintos tipos de habitaciones disponibles en Airnb\n",
        "* **REPETICIÓN -** Qué tipo de habitación se adhiere a una política de cancelación más estricta.\n",
        "* **REPETICIÓN -** Enumere los precios por grupo de barrios y mencione también cuál es el grupo de barrios más caro para los alquileres.\n",
        "* Enumere los 10 barrios más caros por orden creciente de precio con la ayuda de un gráfico de barras horizontales. ¿Cuál es el barrio más barato?\n",
        "* Enumere los barrios que ofrecen alquileres a corto plazo de menos de 10 días. Ilustrar con un gráfico de barras\n",
        "* Enumere los precios con respecto al tipo de habitación utilizando un gráfico de barras y exponga también sus inferencias.\n",
        "* Cree un gráfico circular que muestre la distribución de los días reservados para cada grupo de barrios.\n",
        "\n",
        "Si utiliza Python para este ejercicio, por favor incluya el código en las celdas de abajo. Si utiliza cualquier otra herramienta, por favor incluya pantallazos de su trabajo."
      ]
    },
    {
      "cell_type": "markdown",
      "id": "_yBYBN-6EcXm",
      "metadata": {
        "id": "_yBYBN-6EcXm"
      },
      "source": [
        "\n",
        "\n",
        "---\n",
        "\n",
        "\n",
        "* Enumere los 10 barrios más caros por orden creciente de precio con la ayuda de un gráfico de barras horizontales."
      ]
    },
    {
      "cell_type": "code",
      "execution_count": 232,
      "id": "WbGHtP_UGOiY",
      "metadata": {
        "id": "WbGHtP_UGOiY"
      },
      "outputs": [],
      "source": [
        "## Crear el grupo \n",
        "gp = df['price'].groupby(df['neighbourhood']).mean().sort_values(ascending=False)"
      ]
    },
    {
      "cell_type": "code",
      "execution_count": null,
      "id": "tdx97C6rK86F",
      "metadata": {
        "colab": {
          "base_uri": "https://localhost:8080/",
          "height": 472
        },
        "id": "tdx97C6rK86F",
        "outputId": "cf9205bc-6e7b-4a9c-9829-f10607f367cd"
      },
      "outputs": [],
      "source": [
        "## Importar PyPlot para las visualizaciones\n",
        "import matplotlib.pyplot as plt\n",
        "\n",
        "## Visualizar grafico de baras de los 10 barrios más carros\n",
        "gp[:10].plot(kind ='barh')\n",
        "\n",
        "plt.xlabel('Media de Precios')\n",
        "plt.ylabel('Vecindario')\n",
        "plt.title('Media de precios por vecindario (Ascedente)')\n",
        "plt.show()"
      ]
    },
    {
      "cell_type": "code",
      "execution_count": null,
      "id": "cba5bea9",
      "metadata": {},
      "outputs": [],
      "source": [
        "## ¿Cuál es el barrio más barato de los 10 más carros?\n",
        "print('El barrio más barato de los 10 más carros es:')\n",
        "gp[9:10]"
      ]
    },
    {
      "cell_type": "code",
      "execution_count": null,
      "id": "sYUyMcjZ6_7m",
      "metadata": {
        "colab": {
          "base_uri": "https://localhost:8080/"
        },
        "id": "sYUyMcjZ6_7m",
        "outputId": "b443421e-840c-4dc0-cdf4-16b2325d6c03"
      },
      "outputs": [],
      "source": [
        "## ¿Cuál es el barrio más barato de todos los barrios?\n",
        "print('El barrio más barato de todos los barrios es:')\n",
        "gp[-1:]\n"
      ]
    },
    {
      "cell_type": "code",
      "execution_count": null,
      "id": "MLDWJj_jK86G",
      "metadata": {
        "colab": {
          "base_uri": "https://localhost:8080/"
        },
        "id": "MLDWJj_jK86G",
        "outputId": "714823a1-1e01-4dd3-9ec6-3700b8d3e27c"
      },
      "outputs": [],
      "source": [
        "## Enumere los barrios que ofrecen alquileres a corto plazo de menos de 10 días. Ilustrar con un gráfico de barras\n",
        "import matplotlib.pyplot as plt\n",
        "\n",
        "# Usar valores absolutos porque en la columna hay datos negativos y este valor no puede ser negativo\n",
        "df['minimum_nights'] = df['minimum_nights'].abs()\n",
        "\n",
        "# Filtrar los datos para incluir solo aquellos con 'minimum_nights' menor a 10\n",
        "short_term_rentals = df[df['minimum_nights'] < 10]\n",
        "short_term_rentals_2 = df[df['minimum_nights'] < 10]\n",
        "\n",
        "# Calcular el valor mínimo de 'minimum_nights' para cada barrio\n",
        "min_nights_by_neighbourhood = short_term_rentals.groupby('neighbourhood')['minimum_nights'].min()\n",
        "# Calcular la suma de alguileres a corto plazo por barrio\n",
        "sum_nights_by_neighbourhood = short_term_rentals_2.groupby('neighbourhood')['minimum_nights'].sum()\n",
        "\n",
        "# Ordenar los resultados de manera ascendente\n",
        "min_nights_by_neighbourhood_sorted = min_nights_by_neighbourhood.sort_values(ascending=True)\n",
        "sum_nights_by_neighbourhood_sorted = sum_nights_by_neighbourhood.sort_values(ascending=True)\n",
        "\n",
        "# Filtrar los 10 barrios con más ofertas de alquileres a corto plazo\n",
        "sum_nights_by_neighbourhood_sorted_filtered = sum_nights_by_neighbourhood_sorted[-10:]\n",
        "\n",
        "# Crear la figura y los ejes\n",
        "fig, axes = plt.subplots(nrows=1, ncols=2, figsize=(14, 5))\n",
        "plt.tight_layout()\n",
        "\n",
        "# Primer gráfico de barras\n",
        "axes[0].bar(min_nights_by_neighbourhood_sorted.index, min_nights_by_neighbourhood_sorted)\n",
        "axes[0].set_xlabel('Vecindario')\n",
        "axes[0].set_ylabel('Mínimo de noches')\n",
        "axes[0].set_title('\\nLos barrios que ofrecen alquileres a corto plazo (< 10 días)\\n\\nSe muestra el valor más bajo por vecindario\\n')\n",
        "axes[0].tick_params(axis='x', rotation=90)\n",
        "\n",
        "# Segundo gráfico de barras (mismo que el primero)\n",
        "axes[1].bar(sum_nights_by_neighbourhood_sorted_filtered.index, sum_nights_by_neighbourhood_sorted_filtered)\n",
        "axes[1].set_xlabel('Vecindario')\n",
        "axes[1].set_ylabel('Mínimo de noches')\n",
        "axes[1].set_title('Los 10 barrios con más ofertas de alquileres a corto plazo\\n\\nSe muestra la suma de ofertas tipo \\'corto plazo\\' por vecindario\\n')\n",
        "axes[1].tick_params(axis='x', rotation=90)\n",
        "\n",
        "# Mostrar los gráficos\n",
        "plt.show()\n"
      ]
    },
    {
      "cell_type": "code",
      "execution_count": null,
      "id": "1x0_i7Wu0ybD",
      "metadata": {
        "colab": {
          "base_uri": "https://localhost:8080/",
          "height": 565
        },
        "id": "1x0_i7Wu0ybD",
        "outputId": "4c821284-2a20-47a8-918e-a5f25f2faf56"
      },
      "outputs": [],
      "source": [
        "## Enumere los precios con respecto al tipo de habitación utilizando un gráfico de barras y exponga también sus inferencias.\n",
        "average_prices = df.groupby('room_type')['price'].mean().reset_index()\n",
        "\n",
        "# Crea un gráfico de barras con escala logarítmica en el eje y\n",
        "plt.figure(figsize=(8, 6))\n",
        "plt.bar(average_prices['room_type'], average_prices['price'], color='skyblue')\n",
        "plt.xlabel('Tipo de Habitación')\n",
        "plt.ylabel('Precio Promedio')\n",
        "plt.title('Precio Promedio por Tipo de Habitación')\n",
        "\n",
        "plt.show()\n",
        "\n"
      ]
    },
    {
      "cell_type": "markdown",
      "id": "33a3e360",
      "metadata": {},
      "source": [
        "Inferencias:\n",
        "\n",
        "1. Habitaciones en hotel son más caras.\n",
        "\n",
        "2. Es sorprendente que los Shared room sean más caros que un piso entero (Entire home), pero después de comprobar vemos que esto está influenciado por el barrio."
      ]
    },
    {
      "cell_type": "code",
      "execution_count": null,
      "id": "OMi9O_VY013P",
      "metadata": {
        "colab": {
          "base_uri": "https://localhost:8080/",
          "height": 444
        },
        "id": "OMi9O_VY013P",
        "outputId": "178f2a72-fa2c-4b01-f479-9feaf5bd9784"
      },
      "outputs": [],
      "source": [
        "## Cree un gráfico circular que muestre la distribución de los días reservados para cada grupo de barrios.\n",
        "\n",
        "# Agrupa los datos por 'neighbourhood_group' y suma los días reservados\n",
        "grouped_data = df.groupby('neighbourhood_group')['days_booked'].sum()\n",
        "\n",
        "# Crea un gráfico circular\n",
        "plt.figure(figsize=(5, 5))\n",
        "pie = plt.pie(grouped_data, labels=None, autopct=None, startangle=140, colors=plt.cm.Paired.colors)\n",
        "\n",
        "# Calcula los porcentajes y añade un legend con las etiquetas y porcentajes formateados\n",
        "total_days = grouped_data.sum()\n",
        "percentages = grouped_data / total_days * 100\n",
        "legend_labels = [f'{label} ({percentage:.1f}%)' for label, percentage in zip(grouped_data.index, percentages)]\n",
        "plt.legend(legend_labels, title='Neighbourhood Groups', loc='center left', bbox_to_anchor=(1, 0.5))\n",
        "\n",
        "plt.title('Distribución de días reservados por grupo de barrios')\n",
        "plt.show()\n"
      ]
    },
    {
      "cell_type": "markdown",
      "id": "686IEH_tK86G",
      "metadata": {
        "id": "686IEH_tK86G"
      },
      "source": [
        "## Tarea 5b: Visualización de datos (Cualquier herramienta)\n",
        "\n",
        "* ¿El precio del servicio y el precio de la habitación tienen un impacto mutuo? Ilustre esta relación con un gráfico de dispersión e indique sus inferencias\n",
        "* Utilizando un gráfico lineal muestre en qué año tuvo lugar la máxima construcción de habitaciones.\n",
        "\n",
        "Si utiliza Python para este ejercicio, incluya el código en las celdas siguientes. Si utiliza cualquier otra herramienta, incluya capturas de pantalla de su trabajo."
      ]
    },
    {
      "cell_type": "code",
      "execution_count": null,
      "id": "dJHVCn9fK86H",
      "metadata": {
        "colab": {
          "base_uri": "https://localhost:8080/",
          "height": 467
        },
        "id": "dJHVCn9fK86H",
        "outputId": "7dae4589-34b9-4ae7-cc67-5a0f868ced16"
      },
      "outputs": [],
      "source": [
        "## Grafico de disperción para ilustrar la relación entre el precio del servicio y el precio de la habitación.\n",
        "import seaborn as sns\n",
        "sns.scatterplot(data = df, x = \"service_fee\", y = \"price\", hue = \"room_type\", s = 30)"
      ]
    },
    {
      "cell_type": "markdown",
      "id": "e0c68P-FdD-A",
      "metadata": {
        "id": "e0c68P-FdD-A"
      },
      "source": [
        "Las colcusiones que puedo sacar de esta grafico y de las pruebas que he hecho filtrando por uno o varios tipos de habitaciones son que hay 3 grupos de casos.\n",
        "* Los casos en 'service_fee' no influye al 'precio'\n",
        "* Los casos en que el 'precio' no influye al 'service_fee'\n",
        "* Los casos en que el aumento del uno esta relacionado con un aumento del otro y vice versa\n",
        "\n",
        "Filtrando por tipo de habitación vemos que:\n",
        "* Las habitaciones del tipo **Private room** y **Entire home/apt** están dentro de los tres grupos de casos\n",
        "* Las habitaciones del tipo **Shared room** y **Hotel room** la gran mayoria de este tipo de habitaciones estan en el tercer grupo de casos"
      ]
    },
    {
      "cell_type": "code",
      "execution_count": null,
      "id": "JzlihqeiK86H",
      "metadata": {
        "colab": {
          "base_uri": "https://localhost:8080/",
          "height": 743
        },
        "id": "JzlihqeiK86H",
        "outputId": "562753ce-0792-47a1-fc0a-d75b75cb6a80"
      },
      "outputs": [],
      "source": [
        "## Utilizando un gráfico lineal muestre en qué año tuvo lugar la máxima construcción de habitaciones.\n",
        "construction_counts = df.groupby('construction_year').size()\n",
        "anio_max_construccion = construction_counts.idxmax()\n",
        "# print(construction_counts.idxmax())\n",
        "plt.figure(figsize=(14, 8))\n",
        "plt.plot(construction_counts.index, construction_counts.values, marker='o', linestyle='-')\n",
        "plt.title('\\nNúmero de habitaciones construidas cada año\\n')\n",
        "plt.xlabel('\\nAño de construcción')\n",
        "plt.ylabel('Número de habitaciones construidas\\n')\n",
        "\n",
        "\n",
        "plt.scatter(anio_max_construccion, construccion_por_anio[anio_max_construccion], color='red', label=f'Máxima construcción ({anio_max_construccion})')\n",
        "\n",
        "plt.xticks(list(map(int, construction_counts.index)))\n",
        "plt.ylim(min(construction_counts.values) - 10, max(construction_counts.values) + 25)\n",
        "plt.xlim(min(construction_counts.index) - 1, max(construction_counts.index) + 3)\n",
        "for year, count in zip(construction_counts.index, construction_counts.values):\n",
        "    plt.text(year, count + 15, ('Año:    ' + str(int(year)) + '\\n Total: ' + str(count)) , ha='left', va='top', color='blue', fontsize=10, bbox=dict(facecolor='white', alpha=0.9, boxstyle='round,pad=0.5'))\n",
        "plt.show()"
      ]
    },
    {
      "cell_type": "markdown",
      "id": "2Yc5AWtsK86H",
      "metadata": {
        "id": "2Yc5AWtsK86H"
      },
      "source": [
        "## Tarea 5c: Visualización de datos (Cualquier herramienta)\n",
        "\n",
        "* Con la ayuda de gráficos de caja ilustra lo siguiente\n",
        " * Efecto del número de tasa de revisión en el precio\n",
        " * Efecto de la identidad del host verificada en el precio\n",
        "\n",
        "Si utiliza Python para este ejercicio, por favor incluya el código en las celdas de abajo. Si utiliza cualquier otra herramienta, por favor incluya capturas de pantalla de su trabajo."
      ]
    },
    {
      "cell_type": "code",
      "execution_count": null,
      "id": "WmShzBctTY46",
      "metadata": {
        "colab": {
          "base_uri": "https://localhost:8080/",
          "height": 484
        },
        "id": "WmShzBctTY46",
        "outputId": "ad1bec55-df1c-4eaf-af6c-161f1f0fad32"
      },
      "outputs": [],
      "source": [
        "## Con la ayuda de gráficos de caja ilustramos el efecto del número de tasa de revisión en el precio y de la identidad del host verificada en el precio\n",
        "\n",
        "# Extraer valores unicos de 'host_identity_verified' y 'review_rate_number'\n",
        "unique_host_verified = df['host_identity_verified'].unique()\n",
        "unique_review_rate_number = df['review_rate_number'].unique()\n",
        "\n",
        "# Crear subplots con 2 columnas\n",
        "fig, axes = plt.subplots(nrows=1, ncols=2, figsize=(12, 5))\n",
        "\n",
        "# Grafico de caja para host_identity_verified\n",
        "grouped_data_host_verified = [df['price'][df['host_identity_verified'] == rate] for rate in unique_host_verified]\n",
        "axes[0].boxplot(grouped_data_host_verified, labels=unique_host_verified)\n",
        "axes[0].set_title('Efecto de la Identidad del Host Verificada en el Precio')\n",
        "axes[0].set_xlabel('host_identity_verified')\n",
        "axes[0].set_ylabel('Precio')\n",
        "\n",
        "# Grafico de caja para review_rate_number\n",
        "grouped_data_review_rate = [df['price'][df['review_rate_number'] == rate] for rate in unique_review_rate_number]\n",
        "axes[1].boxplot(grouped_data_review_rate, labels=unique_review_rate_number)\n",
        "axes[1].set_title('Efecto del Número de Tasas de Revisión en el Precio')\n",
        "axes[1].set_xlabel('review_rate_number')\n",
        "axes[1].set_ylabel('Precio')\n",
        "\n",
        "# Ajustar los especacios\n",
        "plt.tight_layout()\n",
        "\n",
        "# Mostrar graficos\n",
        "plt.show()"
      ]
    }
  ],
  "metadata": {
    "colab": {
      "provenance": []
    },
    "kernelspec": {
      "display_name": "Python 3",
      "language": "python",
      "name": "python3"
    },
    "language_info": {
      "codemirror_mode": {
        "name": "ipython",
        "version": 3
      },
      "file_extension": ".py",
      "mimetype": "text/x-python",
      "name": "python",
      "nbconvert_exporter": "python",
      "pygments_lexer": "ipython3",
      "version": "3.9.13"
    },
    "nteract": {
      "version": "0.28.0"
    },
    "toc": {
      "base_numbering": 1,
      "nav_menu": {},
      "number_sections": false,
      "sideBar": true,
      "skip_h1_title": true,
      "title_cell": "Table of Contents",
      "title_sidebar": "Contents",
      "toc_cell": false,
      "toc_position": {},
      "toc_section_display": true,
      "toc_window_display": true
    },
    "vscode": {
      "interpreter": {
        "hash": "31f2aee4e71d21fbe5cf8b01ff0e069b9275f58929596ceb00d14d90e3e16cd6"
      }
    }
  },
  "nbformat": 4,
  "nbformat_minor": 5
}
